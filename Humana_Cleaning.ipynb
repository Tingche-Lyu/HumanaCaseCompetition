{
  "cells": [
    {
      "cell_type": "markdown",
      "metadata": {
        "id": "skhGOkPf9o9E"
      },
      "source": [
        "# **Humana Competition**"
      ]
    },
    {
      "cell_type": "markdown",
      "metadata": {
        "id": "3u8Vb8tEMKoM"
      },
      "source": [
        "# Dataset and Packages Importing "
      ]
    },
    {
      "cell_type": "code",
      "execution_count": 1,
      "metadata": {
        "id": "u7n6IXLo36S6"
      },
      "outputs": [],
      "source": [
        "# Import Packages\n",
        "import numpy as np\n",
        "import pandas as pd\n",
        "import matplotlib.pyplot as plt\n",
        "from sklearn.metrics import roc_auc_score\n",
        "# Other packages we might need\n",
        "## import scipy.sparse as spr\n",
        "## from scipy.stats import ortho_group\n",
        "\n",
        "## from scipy import optimize\n",
        "## from math import sqrt"
      ]
    },
    {
      "cell_type": "code",
      "execution_count": 3,
      "metadata": {
        "colab": {
          "base_uri": "https://localhost:8080/"
        },
        "id": "HVDp6S18x9oF",
        "outputId": "71105546-c1f9-46b5-b1e3-469a6b729932"
      },
      "outputs": [
        {
          "name": "stderr",
          "output_type": "stream",
          "text": [
            "/Library/Frameworks/Python.framework/Versions/3.10/lib/python3.10/site-packages/IPython/core/interactiveshell.py:3251: DtypeWarning: Columns (760) have mixed types.Specify dtype option on import or set low_memory=False.\n",
            "  exec(code_obj, self.user_global_ns, self.user_ns)\n"
          ]
        }
      ],
      "source": [
        "# Load the training and holdout datasets\n",
        "training = pd.read_csv(\"2022_Competition_Training.csv\")\n",
        "holdout = pd.read_csv(\"2022_Competition_Holdout.csv\")"
      ]
    },
    {
      "cell_type": "code",
      "execution_count": 4,
      "metadata": {
        "colab": {
          "base_uri": "https://localhost:8080/"
        },
        "id": "o9yemmN6zgWo",
        "outputId": "760f0556-715c-4086-edbc-5ca346235973"
      },
      "outputs": [
        {
          "name": "stdout",
          "output_type": "stream",
          "text": [
            "<class 'pandas.core.frame.DataFrame'>\n",
            "RangeIndex: 48300 entries, 0 to 48299\n",
            "Columns: 881 entries, id to hi_flag\n",
            "dtypes: float64(817), int64(57), object(7)\n",
            "memory usage: 324.6+ MB\n"
          ]
        }
      ],
      "source": [
        "training.info() # 48300 pieces of data, 881 variables (880 feature + 1 hi_flag)"
      ]
    },
    {
      "cell_type": "code",
      "execution_count": 5,
      "metadata": {
        "colab": {
          "base_uri": "https://localhost:8080/"
        },
        "id": "3P7jIzWA_KVI",
        "outputId": "ec8e48a9-7c93-4509-df6f-d05d45dc84d9"
      },
      "outputs": [
        {
          "name": "stdout",
          "output_type": "stream",
          "text": [
            "<class 'pandas.core.frame.DataFrame'>\n",
            "RangeIndex: 12220 entries, 0 to 12219\n",
            "Columns: 880 entries, id to atlas_snapspth16\n",
            "dtypes: float64(815), int64(58), object(7)\n",
            "memory usage: 82.0+ MB\n"
          ]
        }
      ],
      "source": [
        "holdout.info()"
      ]
    },
    {
      "cell_type": "code",
      "execution_count": 6,
      "metadata": {
        "colab": {
          "base_uri": "https://localhost:8080/",
          "height": 300
        },
        "id": "niRbiEaj3D0D",
        "outputId": "8b287670-5609-49b0-b60d-d1b3a249ee20"
      },
      "outputs": [
        {
          "data": {
            "text/html": [
              "<div>\n",
              "<style scoped>\n",
              "    .dataframe tbody tr th:only-of-type {\n",
              "        vertical-align: middle;\n",
              "    }\n",
              "\n",
              "    .dataframe tbody tr th {\n",
              "        vertical-align: top;\n",
              "    }\n",
              "\n",
              "    .dataframe thead th {\n",
              "        text-align: right;\n",
              "    }\n",
              "</style>\n",
              "<table border=\"1\" class=\"dataframe\">\n",
              "  <thead>\n",
              "    <tr style=\"text-align: right;\">\n",
              "      <th></th>\n",
              "      <th>id</th>\n",
              "      <th>rx_hum_19_pmpm_cost</th>\n",
              "      <th>cmsd2_can_mal_male_genital_pmpm_ct</th>\n",
              "      <th>cmsd2_inj_surgical_pmpm_ct</th>\n",
              "      <th>rev_pm_capd_pmpm_cd_ct</th>\n",
              "      <th>cci_chf_pmpm_ct</th>\n",
              "      <th>rx_phar_cat_safeway_pmpm_ct</th>\n",
              "      <th>cmsd2_ext_car_pmpm_ct</th>\n",
              "      <th>cmsd2_dig_liver_pmpm_ct</th>\n",
              "      <th>cmsd2_mus_arthropath_pmpm_ct</th>\n",
              "      <th>...</th>\n",
              "      <th>cmsd2_ext_nature_pmpm_ct</th>\n",
              "      <th>cmsd2_gus_m_genital_pmpm_ct</th>\n",
              "      <th>atlas_totalpopacs</th>\n",
              "      <th>cmsd2_neo_neo_other_pmpm_ct</th>\n",
              "      <th>cmsd2_dig_hernia_pmpm_ct</th>\n",
              "      <th>cmsd2_sns_blood_pmpm_ct</th>\n",
              "      <th>cmsd2_ext_compl_medical_care_pmpm_ct</th>\n",
              "      <th>rwjf_food_env_inx</th>\n",
              "      <th>atlas_snapspth16</th>\n",
              "      <th>hi_flag</th>\n",
              "    </tr>\n",
              "  </thead>\n",
              "  <tbody>\n",
              "    <tr>\n",
              "      <th>0</th>\n",
              "      <td>100039218.0</td>\n",
              "      <td>0.0</td>\n",
              "      <td>0.0</td>\n",
              "      <td>0.0</td>\n",
              "      <td>0.0</td>\n",
              "      <td>0.0</td>\n",
              "      <td>0.0</td>\n",
              "      <td>0.0</td>\n",
              "      <td>0.0</td>\n",
              "      <td>0.0</td>\n",
              "      <td>...</td>\n",
              "      <td>0.0</td>\n",
              "      <td>0.08</td>\n",
              "      <td>33511.0</td>\n",
              "      <td>0.0</td>\n",
              "      <td>0.0</td>\n",
              "      <td>0.00</td>\n",
              "      <td>0.0</td>\n",
              "      <td>9.1</td>\n",
              "      <td>NaN</td>\n",
              "      <td>0</td>\n",
              "    </tr>\n",
              "    <tr>\n",
              "      <th>1</th>\n",
              "      <td>100042427.0</td>\n",
              "      <td>0.0</td>\n",
              "      <td>0.0</td>\n",
              "      <td>0.0</td>\n",
              "      <td>0.0</td>\n",
              "      <td>0.0</td>\n",
              "      <td>0.0</td>\n",
              "      <td>0.0</td>\n",
              "      <td>0.0</td>\n",
              "      <td>0.0</td>\n",
              "      <td>...</td>\n",
              "      <td>0.0</td>\n",
              "      <td>0.00</td>\n",
              "      <td>176797.0</td>\n",
              "      <td>0.0</td>\n",
              "      <td>0.0</td>\n",
              "      <td>0.00</td>\n",
              "      <td>0.0</td>\n",
              "      <td>6.8</td>\n",
              "      <td>0.670459</td>\n",
              "      <td>0</td>\n",
              "    </tr>\n",
              "    <tr>\n",
              "      <th>2</th>\n",
              "      <td>100055103.0</td>\n",
              "      <td>0.0</td>\n",
              "      <td>0.0</td>\n",
              "      <td>0.0</td>\n",
              "      <td>0.0</td>\n",
              "      <td>0.0</td>\n",
              "      <td>0.0</td>\n",
              "      <td>0.0</td>\n",
              "      <td>0.0</td>\n",
              "      <td>0.0</td>\n",
              "      <td>...</td>\n",
              "      <td>0.0</td>\n",
              "      <td>0.00</td>\n",
              "      <td>380673.0</td>\n",
              "      <td>0.0</td>\n",
              "      <td>0.0</td>\n",
              "      <td>0.00</td>\n",
              "      <td>0.0</td>\n",
              "      <td>8.3</td>\n",
              "      <td>0.879186</td>\n",
              "      <td>0</td>\n",
              "    </tr>\n",
              "    <tr>\n",
              "      <th>3</th>\n",
              "      <td>100074556.0</td>\n",
              "      <td>0.0</td>\n",
              "      <td>0.0</td>\n",
              "      <td>0.0</td>\n",
              "      <td>0.0</td>\n",
              "      <td>0.0</td>\n",
              "      <td>0.0</td>\n",
              "      <td>0.0</td>\n",
              "      <td>0.0</td>\n",
              "      <td>0.0</td>\n",
              "      <td>...</td>\n",
              "      <td>0.0</td>\n",
              "      <td>0.00</td>\n",
              "      <td>267696.0</td>\n",
              "      <td>0.0</td>\n",
              "      <td>0.0</td>\n",
              "      <td>0.00</td>\n",
              "      <td>0.0</td>\n",
              "      <td>7.3</td>\n",
              "      <td>0.746201</td>\n",
              "      <td>0</td>\n",
              "    </tr>\n",
              "    <tr>\n",
              "      <th>4</th>\n",
              "      <td>100079932.0</td>\n",
              "      <td>0.0</td>\n",
              "      <td>0.0</td>\n",
              "      <td>0.0</td>\n",
              "      <td>0.0</td>\n",
              "      <td>0.0</td>\n",
              "      <td>0.0</td>\n",
              "      <td>0.0</td>\n",
              "      <td>0.0</td>\n",
              "      <td>0.0</td>\n",
              "      <td>...</td>\n",
              "      <td>0.0</td>\n",
              "      <td>0.00</td>\n",
              "      <td>19095.0</td>\n",
              "      <td>0.0</td>\n",
              "      <td>0.0</td>\n",
              "      <td>0.25</td>\n",
              "      <td>0.0</td>\n",
              "      <td>6.9</td>\n",
              "      <td>NaN</td>\n",
              "      <td>0</td>\n",
              "    </tr>\n",
              "  </tbody>\n",
              "</table>\n",
              "<p>5 rows × 881 columns</p>\n",
              "</div>"
            ],
            "text/plain": [
              "            id  rx_hum_19_pmpm_cost  cmsd2_can_mal_male_genital_pmpm_ct  \\\n",
              "0  100039218.0                  0.0                                 0.0   \n",
              "1  100042427.0                  0.0                                 0.0   \n",
              "2  100055103.0                  0.0                                 0.0   \n",
              "3  100074556.0                  0.0                                 0.0   \n",
              "4  100079932.0                  0.0                                 0.0   \n",
              "\n",
              "   cmsd2_inj_surgical_pmpm_ct  rev_pm_capd_pmpm_cd_ct  cci_chf_pmpm_ct  \\\n",
              "0                         0.0                     0.0              0.0   \n",
              "1                         0.0                     0.0              0.0   \n",
              "2                         0.0                     0.0              0.0   \n",
              "3                         0.0                     0.0              0.0   \n",
              "4                         0.0                     0.0              0.0   \n",
              "\n",
              "   rx_phar_cat_safeway_pmpm_ct  cmsd2_ext_car_pmpm_ct  \\\n",
              "0                          0.0                    0.0   \n",
              "1                          0.0                    0.0   \n",
              "2                          0.0                    0.0   \n",
              "3                          0.0                    0.0   \n",
              "4                          0.0                    0.0   \n",
              "\n",
              "   cmsd2_dig_liver_pmpm_ct  cmsd2_mus_arthropath_pmpm_ct  ...  \\\n",
              "0                      0.0                           0.0  ...   \n",
              "1                      0.0                           0.0  ...   \n",
              "2                      0.0                           0.0  ...   \n",
              "3                      0.0                           0.0  ...   \n",
              "4                      0.0                           0.0  ...   \n",
              "\n",
              "   cmsd2_ext_nature_pmpm_ct  cmsd2_gus_m_genital_pmpm_ct  atlas_totalpopacs  \\\n",
              "0                       0.0                         0.08            33511.0   \n",
              "1                       0.0                         0.00           176797.0   \n",
              "2                       0.0                         0.00           380673.0   \n",
              "3                       0.0                         0.00           267696.0   \n",
              "4                       0.0                         0.00            19095.0   \n",
              "\n",
              "   cmsd2_neo_neo_other_pmpm_ct  cmsd2_dig_hernia_pmpm_ct  \\\n",
              "0                          0.0                       0.0   \n",
              "1                          0.0                       0.0   \n",
              "2                          0.0                       0.0   \n",
              "3                          0.0                       0.0   \n",
              "4                          0.0                       0.0   \n",
              "\n",
              "   cmsd2_sns_blood_pmpm_ct  cmsd2_ext_compl_medical_care_pmpm_ct  \\\n",
              "0                     0.00                                   0.0   \n",
              "1                     0.00                                   0.0   \n",
              "2                     0.00                                   0.0   \n",
              "3                     0.00                                   0.0   \n",
              "4                     0.25                                   0.0   \n",
              "\n",
              "   rwjf_food_env_inx  atlas_snapspth16  hi_flag  \n",
              "0                9.1               NaN        0  \n",
              "1                6.8          0.670459        0  \n",
              "2                8.3          0.879186        0  \n",
              "3                7.3          0.746201        0  \n",
              "4                6.9               NaN        0  \n",
              "\n",
              "[5 rows x 881 columns]"
            ]
          },
          "execution_count": 6,
          "metadata": {},
          "output_type": "execute_result"
        }
      ],
      "source": [
        "training.head() # see if training is correctly loaded"
      ]
    },
    {
      "cell_type": "code",
      "execution_count": 7,
      "metadata": {
        "colab": {
          "base_uri": "https://localhost:8080/",
          "height": 300
        },
        "id": "c7Y6U7703K8T",
        "outputId": "aa552ad8-1e44-40a4-93dc-c54986e34150"
      },
      "outputs": [
        {
          "data": {
            "text/html": [
              "<div>\n",
              "<style scoped>\n",
              "    .dataframe tbody tr th:only-of-type {\n",
              "        vertical-align: middle;\n",
              "    }\n",
              "\n",
              "    .dataframe tbody tr th {\n",
              "        vertical-align: top;\n",
              "    }\n",
              "\n",
              "    .dataframe thead th {\n",
              "        text-align: right;\n",
              "    }\n",
              "</style>\n",
              "<table border=\"1\" class=\"dataframe\">\n",
              "  <thead>\n",
              "    <tr style=\"text-align: right;\">\n",
              "      <th></th>\n",
              "      <th>id</th>\n",
              "      <th>rx_hum_19_pmpm_cost</th>\n",
              "      <th>cmsd2_can_mal_male_genital_pmpm_ct</th>\n",
              "      <th>cmsd2_inj_surgical_pmpm_ct</th>\n",
              "      <th>rev_pm_capd_pmpm_cd_ct</th>\n",
              "      <th>cci_chf_pmpm_ct</th>\n",
              "      <th>rx_phar_cat_safeway_pmpm_ct</th>\n",
              "      <th>cmsd2_ext_car_pmpm_ct</th>\n",
              "      <th>cmsd2_dig_liver_pmpm_ct</th>\n",
              "      <th>cmsd2_mus_arthropath_pmpm_ct</th>\n",
              "      <th>...</th>\n",
              "      <th>cci_ren_m_pmpm_ct</th>\n",
              "      <th>cmsd2_ext_nature_pmpm_ct</th>\n",
              "      <th>cmsd2_gus_m_genital_pmpm_ct</th>\n",
              "      <th>atlas_totalpopacs</th>\n",
              "      <th>cmsd2_neo_neo_other_pmpm_ct</th>\n",
              "      <th>cmsd2_dig_hernia_pmpm_ct</th>\n",
              "      <th>cmsd2_sns_blood_pmpm_ct</th>\n",
              "      <th>cmsd2_ext_compl_medical_care_pmpm_ct</th>\n",
              "      <th>rwjf_food_env_inx</th>\n",
              "      <th>atlas_snapspth16</th>\n",
              "    </tr>\n",
              "  </thead>\n",
              "  <tbody>\n",
              "    <tr>\n",
              "      <th>0</th>\n",
              "      <td>100093066.0</td>\n",
              "      <td>0.0</td>\n",
              "      <td>0.0</td>\n",
              "      <td>0.0</td>\n",
              "      <td>0.0</td>\n",
              "      <td>0.0</td>\n",
              "      <td>0.0</td>\n",
              "      <td>0.0</td>\n",
              "      <td>0.0</td>\n",
              "      <td>0.0</td>\n",
              "      <td>...</td>\n",
              "      <td>0.08</td>\n",
              "      <td>0.0</td>\n",
              "      <td>0.08</td>\n",
              "      <td>56707.0</td>\n",
              "      <td>0.0</td>\n",
              "      <td>0.0</td>\n",
              "      <td>0.16</td>\n",
              "      <td>0.0</td>\n",
              "      <td>5.7</td>\n",
              "      <td>1.072233</td>\n",
              "    </tr>\n",
              "    <tr>\n",
              "      <th>1</th>\n",
              "      <td>100313000.0</td>\n",
              "      <td>0.0</td>\n",
              "      <td>0.0</td>\n",
              "      <td>0.0</td>\n",
              "      <td>0.0</td>\n",
              "      <td>0.0</td>\n",
              "      <td>0.0</td>\n",
              "      <td>0.0</td>\n",
              "      <td>0.0</td>\n",
              "      <td>0.0</td>\n",
              "      <td>...</td>\n",
              "      <td>0.00</td>\n",
              "      <td>0.0</td>\n",
              "      <td>0.00</td>\n",
              "      <td>83699.0</td>\n",
              "      <td>0.0</td>\n",
              "      <td>0.0</td>\n",
              "      <td>0.00</td>\n",
              "      <td>0.0</td>\n",
              "      <td>6.4</td>\n",
              "      <td>1.401754</td>\n",
              "    </tr>\n",
              "    <tr>\n",
              "      <th>2</th>\n",
              "      <td>100330875.0</td>\n",
              "      <td>0.0</td>\n",
              "      <td>0.0</td>\n",
              "      <td>0.0</td>\n",
              "      <td>0.0</td>\n",
              "      <td>0.0</td>\n",
              "      <td>0.0</td>\n",
              "      <td>0.0</td>\n",
              "      <td>0.0</td>\n",
              "      <td>0.0</td>\n",
              "      <td>...</td>\n",
              "      <td>0.00</td>\n",
              "      <td>0.0</td>\n",
              "      <td>0.00</td>\n",
              "      <td>702890.0</td>\n",
              "      <td>0.0</td>\n",
              "      <td>0.0</td>\n",
              "      <td>0.00</td>\n",
              "      <td>0.0</td>\n",
              "      <td>8.9</td>\n",
              "      <td>0.489536</td>\n",
              "    </tr>\n",
              "    <tr>\n",
              "      <th>3</th>\n",
              "      <td>100346385.0</td>\n",
              "      <td>0.0</td>\n",
              "      <td>0.0</td>\n",
              "      <td>0.0</td>\n",
              "      <td>0.0</td>\n",
              "      <td>0.0</td>\n",
              "      <td>0.0</td>\n",
              "      <td>0.0</td>\n",
              "      <td>0.0</td>\n",
              "      <td>0.0</td>\n",
              "      <td>...</td>\n",
              "      <td>0.33</td>\n",
              "      <td>0.0</td>\n",
              "      <td>0.00</td>\n",
              "      <td>1323059.0</td>\n",
              "      <td>0.0</td>\n",
              "      <td>0.0</td>\n",
              "      <td>0.25</td>\n",
              "      <td>0.0</td>\n",
              "      <td>7.7</td>\n",
              "      <td>0.780388</td>\n",
              "    </tr>\n",
              "    <tr>\n",
              "      <th>4</th>\n",
              "      <td>100443164.0</td>\n",
              "      <td>0.0</td>\n",
              "      <td>0.0</td>\n",
              "      <td>0.0</td>\n",
              "      <td>0.0</td>\n",
              "      <td>0.0</td>\n",
              "      <td>0.0</td>\n",
              "      <td>0.0</td>\n",
              "      <td>0.0</td>\n",
              "      <td>0.0</td>\n",
              "      <td>...</td>\n",
              "      <td>0.08</td>\n",
              "      <td>0.0</td>\n",
              "      <td>0.00</td>\n",
              "      <td>285449.0</td>\n",
              "      <td>0.0</td>\n",
              "      <td>0.0</td>\n",
              "      <td>0.00</td>\n",
              "      <td>0.0</td>\n",
              "      <td>7.5</td>\n",
              "      <td>0.745321</td>\n",
              "    </tr>\n",
              "  </tbody>\n",
              "</table>\n",
              "<p>5 rows × 880 columns</p>\n",
              "</div>"
            ],
            "text/plain": [
              "            id  rx_hum_19_pmpm_cost  cmsd2_can_mal_male_genital_pmpm_ct  \\\n",
              "0  100093066.0                  0.0                                 0.0   \n",
              "1  100313000.0                  0.0                                 0.0   \n",
              "2  100330875.0                  0.0                                 0.0   \n",
              "3  100346385.0                  0.0                                 0.0   \n",
              "4  100443164.0                  0.0                                 0.0   \n",
              "\n",
              "   cmsd2_inj_surgical_pmpm_ct  rev_pm_capd_pmpm_cd_ct  cci_chf_pmpm_ct  \\\n",
              "0                         0.0                     0.0              0.0   \n",
              "1                         0.0                     0.0              0.0   \n",
              "2                         0.0                     0.0              0.0   \n",
              "3                         0.0                     0.0              0.0   \n",
              "4                         0.0                     0.0              0.0   \n",
              "\n",
              "   rx_phar_cat_safeway_pmpm_ct  cmsd2_ext_car_pmpm_ct  \\\n",
              "0                          0.0                    0.0   \n",
              "1                          0.0                    0.0   \n",
              "2                          0.0                    0.0   \n",
              "3                          0.0                    0.0   \n",
              "4                          0.0                    0.0   \n",
              "\n",
              "   cmsd2_dig_liver_pmpm_ct  cmsd2_mus_arthropath_pmpm_ct  ...  \\\n",
              "0                      0.0                           0.0  ...   \n",
              "1                      0.0                           0.0  ...   \n",
              "2                      0.0                           0.0  ...   \n",
              "3                      0.0                           0.0  ...   \n",
              "4                      0.0                           0.0  ...   \n",
              "\n",
              "   cci_ren_m_pmpm_ct  cmsd2_ext_nature_pmpm_ct  cmsd2_gus_m_genital_pmpm_ct  \\\n",
              "0               0.08                       0.0                         0.08   \n",
              "1               0.00                       0.0                         0.00   \n",
              "2               0.00                       0.0                         0.00   \n",
              "3               0.33                       0.0                         0.00   \n",
              "4               0.08                       0.0                         0.00   \n",
              "\n",
              "   atlas_totalpopacs  cmsd2_neo_neo_other_pmpm_ct  cmsd2_dig_hernia_pmpm_ct  \\\n",
              "0            56707.0                          0.0                       0.0   \n",
              "1            83699.0                          0.0                       0.0   \n",
              "2           702890.0                          0.0                       0.0   \n",
              "3          1323059.0                          0.0                       0.0   \n",
              "4           285449.0                          0.0                       0.0   \n",
              "\n",
              "   cmsd2_sns_blood_pmpm_ct  cmsd2_ext_compl_medical_care_pmpm_ct  \\\n",
              "0                     0.16                                   0.0   \n",
              "1                     0.00                                   0.0   \n",
              "2                     0.00                                   0.0   \n",
              "3                     0.25                                   0.0   \n",
              "4                     0.00                                   0.0   \n",
              "\n",
              "   rwjf_food_env_inx  atlas_snapspth16  \n",
              "0                5.7          1.072233  \n",
              "1                6.4          1.401754  \n",
              "2                8.9          0.489536  \n",
              "3                7.7          0.780388  \n",
              "4                7.5          0.745321  \n",
              "\n",
              "[5 rows x 880 columns]"
            ]
          },
          "execution_count": 7,
          "metadata": {},
          "output_type": "execute_result"
        }
      ],
      "source": [
        "holdout.head() # see if holdout is correctly loaded"
      ]
    },
    {
      "cell_type": "code",
      "execution_count": 8,
      "metadata": {
        "colab": {
          "base_uri": "https://localhost:8080/"
        },
        "id": "G-f5WsP_6h5R",
        "outputId": "715d8d7d-c622-4864-92a6-90aa73a7327f"
      },
      "outputs": [
        {
          "data": {
            "text/plain": [
              "float64    817\n",
              "int64       57\n",
              "object       7\n",
              "dtype: int64"
            ]
          },
          "execution_count": 8,
          "metadata": {},
          "output_type": "execute_result"
        }
      ],
      "source": [
        "training.dtypes.value_counts()"
      ]
    },
    {
      "cell_type": "markdown",
      "metadata": {
        "id": "WWUzVtaJwy_o"
      },
      "source": [
        "# Data Understanding\n",
        "General Analysis of Columns' Meaning\n",
        "\n"
      ]
    },
    {
      "cell_type": "code",
      "execution_count": null,
      "metadata": {
        "id": "fMQ44j0G39wQ"
      },
      "outputs": [],
      "source": [
        "colname = list(training.columns) # a list of column names"
      ]
    },
    {
      "cell_type": "code",
      "execution_count": null,
      "metadata": {
        "id": "6vsUQ8h9qCXW"
      },
      "outputs": [],
      "source": [
        "# What are the prefixes? How many variables contained in each \"prefix\" and what are they?\n",
        "## create a list of keys to be included in the dict\n",
        "col_key = [\"other\"] \n",
        "## create a loop that includes all the keys\n",
        "for i in range(len(colname)):\n",
        "  index = colname[i].find(\"_\")\n",
        "  if index != -1 and colname[i][:index] not in col_key:\n",
        "    col_key += [colname[i][:index]]\n",
        "## create a loop that includes all the variables that belongs to each key\n",
        "col_dict = {}\n",
        "for i in range(len(col_key)):\n",
        "  col_dict[col_key[i]] = []\n",
        "col_dict[\"other\"] = [\"id\"]\n",
        "for i in range(len(colname)):\n",
        "  index = colname[i].find(\"_\")\n",
        "  if index != -1:\n",
        "    col_dict[colname[i][:index]].insert(-1,colname[i])\n",
        "## put all the variable that has no similar prefix to \"other\"\n",
        "for keyword in col_dict.keys() - \"other\":\n",
        "  if len(col_dict[keyword]) == 1:\n",
        "    col_dict[\"other\"].append(col_dict[keyword][0])\n",
        "    col_dict.pop(keyword)\n",
        "## check what the dictionary looks like\n",
        "# col_dict # 可以看到整个dictionary\n",
        "# col_dict.keys() # 可以看到整个dictionary里的key都是什么，i.e.有哪些前缀"
      ]
    },
    {
      "cell_type": "markdown",
      "metadata": {
        "id": "VH-faaLkEC7H"
      },
      "source": [
        "\\begin{array}{cccc}\n",
        "\\text{feature}&\\text{number}&\\text{meaning} & \\text{according to others}\\\\\n",
        "\\text{other}&7+1&\\text{id, geographic, sex...} & \\text{} \\\\\n",
        "\\text{rx}&234&\\text{prescription} & \\text{}\\\\\n",
        "\\text{cmsd2}&283&\\text{claims} & \\text{}\\\\\n",
        "\\text{rev}&74&\\text{claim lines for a revenue code} & \\text{descriptions and dollar amounts charged for hospital services}\\\\\n",
        "\\text{cci}&20&\\text{count of claims} & \\text{}\\\\\n",
        "\\text{rwjf}&21&\\text{health outcomes} & \\text{Regional\n",
        "healthcare and economic factors}\\\\\n",
        "\\text{bh}&54&\\text{behavioral health claims} & \\text{}\\\\\n",
        "\\text{cnt}&65&\\text{count of member interaction} & \\text{}\\\\\n",
        "\\text{total}&44&\\text{allowed cost?} & \\text{Overall claims/cost}\\\\\n",
        "\\text{cmsd1}&22&\\text{claim per month} & \\text{}\\\\\n",
        "\\text{credit}&10&\\text{bank loan, mortgage} & \\text{Personal bank account and statement information}\\\\\n",
        "\\text{cms}&16&\\text{risk scores...} & \\text{Claims and\n",
        "Medicare plan payment}\\\\\n",
        "\\text{cons}&9&\\text{loan, managing health...} & \\text{Regional census data}\\\\\n",
        "\\text{med}&12&\\text{days since last claim} & \\text{Trend of prescription cost for specific diseases}\\\\\n",
        "\\text{atlas}&9&\\text{population size...} & \\text{Economic and poverty situation}\\\\\n",
        "\\end{array}"
      ]
    },
    {
      "cell_type": "markdown",
      "metadata": {
        "id": "woqk611U4BlT"
      },
      "source": [
        "# Data Cleaning\n",
        "\n",
        "1.   Non-distinct Values by Column\n",
        "2.   Null Value Detection by Column\n",
        "3.   Data Type: binary/categorial/numerical\n",
        "\n"
      ]
    },
    {
      "cell_type": "markdown",
      "metadata": {
        "id": "fPB0E3hG4PyO"
      },
      "source": [
        "## Non-distinct Values"
      ]
    },
    {
      "cell_type": "markdown",
      "metadata": {
        "id": "Tb0yFty9K6tJ"
      },
      "source": [
        "### Detecting non-distinct values"
      ]
    },
    {
      "cell_type": "code",
      "execution_count": null,
      "metadata": {
        "colab": {
          "base_uri": "https://localhost:8080/"
        },
        "id": "5dKWRonrvfpn",
        "outputId": "99df6c23-c8b5-446c-a10f-892b88ecfd6c"
      },
      "outputs": [
        {
          "data": {
            "text/plain": [
              "211"
            ]
          },
          "execution_count": 167,
          "metadata": {},
          "output_type": "execute_result"
        }
      ],
      "source": [
        "# drop non-distinct values\n",
        "drop_cols = []\n",
        "\n",
        "for col in training.columns:\n",
        "    if training[col].nunique() == 1:\n",
        "        drop_cols.append(col)\n",
        "drop_cols = list(set(drop_cols))\n",
        "\n",
        "len(drop_cols)\n",
        "# 211 columns have non-distinct values, maybe drop?"
      ]
    },
    {
      "cell_type": "code",
      "execution_count": null,
      "metadata": {
        "colab": {
          "base_uri": "https://localhost:8080/"
        },
        "id": "tbtd2J9VtDfh",
        "outputId": "bb8cd53e-491c-4f1f-d260-606156583aff"
      },
      "outputs": [
        {
          "data": {
            "text/plain": [
              "211"
            ]
          },
          "execution_count": 168,
          "metadata": {},
          "output_type": "execute_result"
        }
      ],
      "source": [
        "# test non-distinctive value in holdout sample\n",
        "count = 0\n",
        "\n",
        "for col in drop_cols:\n",
        "  if holdout[col].nunique() == 1:\n",
        "    count += 1\n",
        "\n",
        "count # 211 as well"
      ]
    },
    {
      "cell_type": "markdown",
      "metadata": {
        "id": "Rn2SR1BaLFbi"
      },
      "source": [
        "### Droping non-distinctive columns"
      ]
    },
    {
      "cell_type": "code",
      "execution_count": null,
      "metadata": {
        "colab": {
          "base_uri": "https://localhost:8080/"
        },
        "id": "F_4vXcQJIZEA",
        "outputId": "2d2afdeb-d3de-4896-f187-3f587c54fe15"
      },
      "outputs": [
        {
          "name": "stdout",
          "output_type": "stream",
          "text": [
            "<class 'pandas.core.frame.DataFrame'>\n",
            "RangeIndex: 48300 entries, 0 to 48299\n",
            "Columns: 670 entries, id to hi_flag\n",
            "dtypes: float64(625), int64(38), object(7)\n",
            "memory usage: 246.9+ MB\n",
            "<class 'pandas.core.frame.DataFrame'>\n",
            "RangeIndex: 12220 entries, 0 to 12219\n",
            "Columns: 669 entries, id to atlas_snapspth16\n",
            "dtypes: float64(623), int64(39), object(7)\n",
            "memory usage: 62.4+ MB\n"
          ]
        }
      ],
      "source": [
        "# drop non-distinctive columns\n",
        "training_dist = training.drop(columns=drop_cols)\n",
        "training_dist.info() # 881 - 211 = 670 variables\n",
        "holdout_dist = holdout.drop(columns=drop_cols)\n",
        "holdout_dist.info() # 880 - 211 = 669 variables"
      ]
    },
    {
      "cell_type": "markdown",
      "metadata": {
        "id": "rcOnPu-43p3R"
      },
      "source": [
        "## Null Value Detection and Analysis"
      ]
    },
    {
      "cell_type": "markdown",
      "metadata": {
        "id": "bUkxRHN3LLDu"
      },
      "source": [
        "### Detecting null values"
      ]
    },
    {
      "cell_type": "code",
      "execution_count": null,
      "metadata": {
        "colab": {
          "base_uri": "https://localhost:8080/",
          "height": 206
        },
        "id": "y-lXt-ZCLFc-",
        "outputId": "f9dbd743-c98c-42f4-fa23-bfff2c9e5d6c"
      },
      "outputs": [
        {
          "data": {
            "text/html": [
              "\n",
              "  <div id=\"df-378cc670-7c23-474e-8634-a3ac062b0693\">\n",
              "    <div class=\"colab-df-container\">\n",
              "      <div>\n",
              "<style scoped>\n",
              "    .dataframe tbody tr th:only-of-type {\n",
              "        vertical-align: middle;\n",
              "    }\n",
              "\n",
              "    .dataframe tbody tr th {\n",
              "        vertical-align: top;\n",
              "    }\n",
              "\n",
              "    .dataframe thead th {\n",
              "        text-align: right;\n",
              "    }\n",
              "</style>\n",
              "<table border=\"1\" class=\"dataframe\">\n",
              "  <thead>\n",
              "    <tr style=\"text-align: right;\">\n",
              "      <th></th>\n",
              "      <th>VariableName</th>\n",
              "      <th>TrainingNullCount</th>\n",
              "    </tr>\n",
              "  </thead>\n",
              "  <tbody>\n",
              "    <tr>\n",
              "      <th>109</th>\n",
              "      <td>cms_risk_adj_payment_rate_b_amt</td>\n",
              "      <td>48276</td>\n",
              "    </tr>\n",
              "    <tr>\n",
              "      <th>85</th>\n",
              "      <td>cms_tot_partd_payment_amt</td>\n",
              "      <td>45981</td>\n",
              "    </tr>\n",
              "    <tr>\n",
              "      <th>163</th>\n",
              "      <td>credit_hh_agencyfirstmtg_new</td>\n",
              "      <td>45299</td>\n",
              "    </tr>\n",
              "    <tr>\n",
              "      <th>188</th>\n",
              "      <td>credit_bal_autobank_new</td>\n",
              "      <td>45243</td>\n",
              "    </tr>\n",
              "    <tr>\n",
              "      <th>198</th>\n",
              "      <td>credit_num_autobank_new</td>\n",
              "      <td>45238</td>\n",
              "    </tr>\n",
              "  </tbody>\n",
              "</table>\n",
              "</div>\n",
              "      <button class=\"colab-df-convert\" onclick=\"convertToInteractive('df-378cc670-7c23-474e-8634-a3ac062b0693')\"\n",
              "              title=\"Convert this dataframe to an interactive table.\"\n",
              "              style=\"display:none;\">\n",
              "        \n",
              "  <svg xmlns=\"http://www.w3.org/2000/svg\" height=\"24px\"viewBox=\"0 0 24 24\"\n",
              "       width=\"24px\">\n",
              "    <path d=\"M0 0h24v24H0V0z\" fill=\"none\"/>\n",
              "    <path d=\"M18.56 5.44l.94 2.06.94-2.06 2.06-.94-2.06-.94-.94-2.06-.94 2.06-2.06.94zm-11 1L8.5 8.5l.94-2.06 2.06-.94-2.06-.94L8.5 2.5l-.94 2.06-2.06.94zm10 10l.94 2.06.94-2.06 2.06-.94-2.06-.94-.94-2.06-.94 2.06-2.06.94z\"/><path d=\"M17.41 7.96l-1.37-1.37c-.4-.4-.92-.59-1.43-.59-.52 0-1.04.2-1.43.59L10.3 9.45l-7.72 7.72c-.78.78-.78 2.05 0 2.83L4 21.41c.39.39.9.59 1.41.59.51 0 1.02-.2 1.41-.59l7.78-7.78 2.81-2.81c.8-.78.8-2.07 0-2.86zM5.41 20L4 18.59l7.72-7.72 1.47 1.35L5.41 20z\"/>\n",
              "  </svg>\n",
              "      </button>\n",
              "      \n",
              "  <style>\n",
              "    .colab-df-container {\n",
              "      display:flex;\n",
              "      flex-wrap:wrap;\n",
              "      gap: 12px;\n",
              "    }\n",
              "\n",
              "    .colab-df-convert {\n",
              "      background-color: #E8F0FE;\n",
              "      border: none;\n",
              "      border-radius: 50%;\n",
              "      cursor: pointer;\n",
              "      display: none;\n",
              "      fill: #1967D2;\n",
              "      height: 32px;\n",
              "      padding: 0 0 0 0;\n",
              "      width: 32px;\n",
              "    }\n",
              "\n",
              "    .colab-df-convert:hover {\n",
              "      background-color: #E2EBFA;\n",
              "      box-shadow: 0px 1px 2px rgba(60, 64, 67, 0.3), 0px 1px 3px 1px rgba(60, 64, 67, 0.15);\n",
              "      fill: #174EA6;\n",
              "    }\n",
              "\n",
              "    [theme=dark] .colab-df-convert {\n",
              "      background-color: #3B4455;\n",
              "      fill: #D2E3FC;\n",
              "    }\n",
              "\n",
              "    [theme=dark] .colab-df-convert:hover {\n",
              "      background-color: #434B5C;\n",
              "      box-shadow: 0px 1px 3px 1px rgba(0, 0, 0, 0.15);\n",
              "      filter: drop-shadow(0px 1px 2px rgba(0, 0, 0, 0.3));\n",
              "      fill: #FFFFFF;\n",
              "    }\n",
              "  </style>\n",
              "\n",
              "      <script>\n",
              "        const buttonEl =\n",
              "          document.querySelector('#df-378cc670-7c23-474e-8634-a3ac062b0693 button.colab-df-convert');\n",
              "        buttonEl.style.display =\n",
              "          google.colab.kernel.accessAllowed ? 'block' : 'none';\n",
              "\n",
              "        async function convertToInteractive(key) {\n",
              "          const element = document.querySelector('#df-378cc670-7c23-474e-8634-a3ac062b0693');\n",
              "          const dataTable =\n",
              "            await google.colab.kernel.invokeFunction('convertToInteractive',\n",
              "                                                     [key], {});\n",
              "          if (!dataTable) return;\n",
              "\n",
              "          const docLinkHtml = 'Like what you see? Visit the ' +\n",
              "            '<a target=\"_blank\" href=https://colab.research.google.com/notebooks/data_table.ipynb>data table notebook</a>'\n",
              "            + ' to learn more about interactive tables.';\n",
              "          element.innerHTML = '';\n",
              "          dataTable['output_type'] = 'display_data';\n",
              "          await google.colab.output.renderOutput(dataTable, element);\n",
              "          const docLink = document.createElement('div');\n",
              "          docLink.innerHTML = docLinkHtml;\n",
              "          element.appendChild(docLink);\n",
              "        }\n",
              "      </script>\n",
              "    </div>\n",
              "  </div>\n",
              "  "
            ],
            "text/plain": [
              "                        VariableName TrainingNullCount\n",
              "109  cms_risk_adj_payment_rate_b_amt             48276\n",
              "85         cms_tot_partd_payment_amt             45981\n",
              "163     credit_hh_agencyfirstmtg_new             45299\n",
              "188          credit_bal_autobank_new             45243\n",
              "198          credit_num_autobank_new             45238"
            ]
          },
          "execution_count": 170,
          "metadata": {},
          "output_type": "execute_result"
        }
      ],
      "source": [
        "# What is the number of null values in each column?\n",
        "num_null = training.isnull().sum() # sum of NaN in each column\n",
        "null_df = pd.DataFrame(columns = ['VariableName', 'TrainingNullCount']) # an empty dataframe\n",
        "for i in range(len(num_null)):\n",
        "  if num_null[i] != 0:\n",
        "    new_row = pd.DataFrame([[colname[i], num_null[i]]], columns = ['VariableName', 'TrainingNullCount'])\n",
        "    null_df = null_df.append(new_row, ignore_index=True)\n",
        "# 260 columns have null values and we can work on it\n",
        "sorted_null_df = null_df.sort_values(by= \"TrainingNullCount\", ascending = False)\n",
        "sorted_null_df[:5]"
      ]
    },
    {
      "cell_type": "code",
      "execution_count": null,
      "metadata": {
        "colab": {
          "base_uri": "https://localhost:8080/",
          "height": 426
        },
        "id": "_7qaJld1BJGB",
        "outputId": "7f70d278-d46c-4217-cc3c-aec149b49e37"
      },
      "outputs": [
        {
          "data": {
            "text/html": [
              "\n",
              "  <div id=\"df-9c9fc200-96c5-4687-8249-1e49991783ed\">\n",
              "    <div class=\"colab-df-container\">\n",
              "      <div>\n",
              "<style scoped>\n",
              "    .dataframe tbody tr th:only-of-type {\n",
              "        vertical-align: middle;\n",
              "    }\n",
              "\n",
              "    .dataframe tbody tr th {\n",
              "        vertical-align: top;\n",
              "    }\n",
              "\n",
              "    .dataframe thead th {\n",
              "        text-align: right;\n",
              "    }\n",
              "</style>\n",
              "<table border=\"1\" class=\"dataframe\">\n",
              "  <thead>\n",
              "    <tr style=\"text-align: right;\">\n",
              "      <th></th>\n",
              "      <th>VariableName</th>\n",
              "      <th>TrainingNullCount</th>\n",
              "      <th>HoldoutNullCount</th>\n",
              "    </tr>\n",
              "  </thead>\n",
              "  <tbody>\n",
              "    <tr>\n",
              "      <th>0</th>\n",
              "      <td>True</td>\n",
              "      <td>True</td>\n",
              "      <td>True</td>\n",
              "    </tr>\n",
              "    <tr>\n",
              "      <th>1</th>\n",
              "      <td>True</td>\n",
              "      <td>True</td>\n",
              "      <td>True</td>\n",
              "    </tr>\n",
              "    <tr>\n",
              "      <th>2</th>\n",
              "      <td>True</td>\n",
              "      <td>True</td>\n",
              "      <td>True</td>\n",
              "    </tr>\n",
              "    <tr>\n",
              "      <th>3</th>\n",
              "      <td>True</td>\n",
              "      <td>True</td>\n",
              "      <td>True</td>\n",
              "    </tr>\n",
              "    <tr>\n",
              "      <th>4</th>\n",
              "      <td>True</td>\n",
              "      <td>True</td>\n",
              "      <td>True</td>\n",
              "    </tr>\n",
              "    <tr>\n",
              "      <th>5</th>\n",
              "      <td>True</td>\n",
              "      <td>True</td>\n",
              "      <td>True</td>\n",
              "    </tr>\n",
              "    <tr>\n",
              "      <th>6</th>\n",
              "      <td>True</td>\n",
              "      <td>True</td>\n",
              "      <td>True</td>\n",
              "    </tr>\n",
              "    <tr>\n",
              "      <th>7</th>\n",
              "      <td>True</td>\n",
              "      <td>True</td>\n",
              "      <td>True</td>\n",
              "    </tr>\n",
              "    <tr>\n",
              "      <th>8</th>\n",
              "      <td>True</td>\n",
              "      <td>True</td>\n",
              "      <td>True</td>\n",
              "    </tr>\n",
              "    <tr>\n",
              "      <th>9</th>\n",
              "      <td>True</td>\n",
              "      <td>True</td>\n",
              "      <td>True</td>\n",
              "    </tr>\n",
              "    <tr>\n",
              "      <th>10</th>\n",
              "      <td>True</td>\n",
              "      <td>True</td>\n",
              "      <td>True</td>\n",
              "    </tr>\n",
              "    <tr>\n",
              "      <th>11</th>\n",
              "      <td>True</td>\n",
              "      <td>True</td>\n",
              "      <td>True</td>\n",
              "    </tr>\n",
              "  </tbody>\n",
              "</table>\n",
              "</div>\n",
              "      <button class=\"colab-df-convert\" onclick=\"convertToInteractive('df-9c9fc200-96c5-4687-8249-1e49991783ed')\"\n",
              "              title=\"Convert this dataframe to an interactive table.\"\n",
              "              style=\"display:none;\">\n",
              "        \n",
              "  <svg xmlns=\"http://www.w3.org/2000/svg\" height=\"24px\"viewBox=\"0 0 24 24\"\n",
              "       width=\"24px\">\n",
              "    <path d=\"M0 0h24v24H0V0z\" fill=\"none\"/>\n",
              "    <path d=\"M18.56 5.44l.94 2.06.94-2.06 2.06-.94-2.06-.94-.94-2.06-.94 2.06-2.06.94zm-11 1L8.5 8.5l.94-2.06 2.06-.94-2.06-.94L8.5 2.5l-.94 2.06-2.06.94zm10 10l.94 2.06.94-2.06 2.06-.94-2.06-.94-.94-2.06-.94 2.06-2.06.94z\"/><path d=\"M17.41 7.96l-1.37-1.37c-.4-.4-.92-.59-1.43-.59-.52 0-1.04.2-1.43.59L10.3 9.45l-7.72 7.72c-.78.78-.78 2.05 0 2.83L4 21.41c.39.39.9.59 1.41.59.51 0 1.02-.2 1.41-.59l7.78-7.78 2.81-2.81c.8-.78.8-2.07 0-2.86zM5.41 20L4 18.59l7.72-7.72 1.47 1.35L5.41 20z\"/>\n",
              "  </svg>\n",
              "      </button>\n",
              "      \n",
              "  <style>\n",
              "    .colab-df-container {\n",
              "      display:flex;\n",
              "      flex-wrap:wrap;\n",
              "      gap: 12px;\n",
              "    }\n",
              "\n",
              "    .colab-df-convert {\n",
              "      background-color: #E8F0FE;\n",
              "      border: none;\n",
              "      border-radius: 50%;\n",
              "      cursor: pointer;\n",
              "      display: none;\n",
              "      fill: #1967D2;\n",
              "      height: 32px;\n",
              "      padding: 0 0 0 0;\n",
              "      width: 32px;\n",
              "    }\n",
              "\n",
              "    .colab-df-convert:hover {\n",
              "      background-color: #E2EBFA;\n",
              "      box-shadow: 0px 1px 2px rgba(60, 64, 67, 0.3), 0px 1px 3px 1px rgba(60, 64, 67, 0.15);\n",
              "      fill: #174EA6;\n",
              "    }\n",
              "\n",
              "    [theme=dark] .colab-df-convert {\n",
              "      background-color: #3B4455;\n",
              "      fill: #D2E3FC;\n",
              "    }\n",
              "\n",
              "    [theme=dark] .colab-df-convert:hover {\n",
              "      background-color: #434B5C;\n",
              "      box-shadow: 0px 1px 3px 1px rgba(0, 0, 0, 0.15);\n",
              "      filter: drop-shadow(0px 1px 2px rgba(0, 0, 0, 0.3));\n",
              "      fill: #FFFFFF;\n",
              "    }\n",
              "  </style>\n",
              "\n",
              "      <script>\n",
              "        const buttonEl =\n",
              "          document.querySelector('#df-9c9fc200-96c5-4687-8249-1e49991783ed button.colab-df-convert');\n",
              "        buttonEl.style.display =\n",
              "          google.colab.kernel.accessAllowed ? 'block' : 'none';\n",
              "\n",
              "        async function convertToInteractive(key) {\n",
              "          const element = document.querySelector('#df-9c9fc200-96c5-4687-8249-1e49991783ed');\n",
              "          const dataTable =\n",
              "            await google.colab.kernel.invokeFunction('convertToInteractive',\n",
              "                                                     [key], {});\n",
              "          if (!dataTable) return;\n",
              "\n",
              "          const docLinkHtml = 'Like what you see? Visit the ' +\n",
              "            '<a target=\"_blank\" href=https://colab.research.google.com/notebooks/data_table.ipynb>data table notebook</a>'\n",
              "            + ' to learn more about interactive tables.';\n",
              "          element.innerHTML = '';\n",
              "          dataTable['output_type'] = 'display_data';\n",
              "          await google.colab.output.renderOutput(dataTable, element);\n",
              "          const docLink = document.createElement('div');\n",
              "          docLink.innerHTML = docLinkHtml;\n",
              "          element.appendChild(docLink);\n",
              "        }\n",
              "      </script>\n",
              "    </div>\n",
              "  </div>\n",
              "  "
            ],
            "text/plain": [
              "    VariableName  TrainingNullCount  HoldoutNullCount\n",
              "0           True               True              True\n",
              "1           True               True              True\n",
              "2           True               True              True\n",
              "3           True               True              True\n",
              "4           True               True              True\n",
              "5           True               True              True\n",
              "6           True               True              True\n",
              "7           True               True              True\n",
              "8           True               True              True\n",
              "9           True               True              True\n",
              "10          True               True              True\n",
              "11          True               True              True"
            ]
          },
          "execution_count": 171,
          "metadata": {},
          "output_type": "execute_result"
        }
      ],
      "source": [
        "# test null values in the 260 columns above in the holdout sample\n",
        "num_null_holdout = holdout.isnull().sum().sort_values(ascending = False).to_frame().reset_index()\n",
        "num_null_holdout = num_null_holdout.rename(columns={\"index\": \"VariableName\", 0: \"HoldoutNullCount\"})\n",
        "# new dataframe with the null count of all columns in the holdout sample\n",
        "full_sorted_null_df = sorted_null_df.merge(num_null_holdout, left_on='VariableName', right_on='VariableName')\n",
        "# these 12 columns to be dropped -- 80%+ NAs in each column\n",
        "full_sorted_null_df[full_sorted_null_df[\"TrainingNullCount\"] > 0.8 * 48300] == full_sorted_null_df[full_sorted_null_df[\"HoldoutNullCount\"] > 0.8 * 12220]"
      ]
    },
    {
      "cell_type": "code",
      "execution_count": null,
      "metadata": {
        "colab": {
          "base_uri": "https://localhost:8080/",
          "height": 822
        },
        "id": "Qij05s_fi6Wm",
        "outputId": "4c14dfbe-df54-4a7d-abc6-bd55137257e1"
      },
      "outputs": [
        {
          "data": {
            "image/png": "[encoded data removed]",
            "text/plain": [
              "<Figure size 1080x1080 with 1 Axes>"
            ]
          },
          "metadata": {},
          "output_type": "display_data"
        }
      ],
      "source": [
        "ax = full_sorted_null_df[:60].plot.barh(x=\"VariableName\", y=\"TrainingNullCount\", figsize=(15, 15))"
      ]
    },
    {
      "cell_type": "markdown",
      "metadata": {
        "id": "Ltf2pUdVLSEY"
      },
      "source": [
        "### Dropping columns with 80%+ null values"
      ]
    },
    {
      "cell_type": "code",
      "execution_count": null,
      "metadata": {
        "colab": {
          "base_uri": "https://localhost:8080/"
        },
        "id": "E-j8mibIJGEy",
        "outputId": "e9fd6766-f6fe-4a2a-813e-90d82381897a"
      },
      "outputs": [
        {
          "data": {
            "text/plain": [
              "0     cms_risk_adj_payment_rate_b_amt\n",
              "1           cms_tot_partd_payment_amt\n",
              "2        credit_hh_agencyfirstmtg_new\n",
              "3             credit_bal_autobank_new\n",
              "4             credit_num_autobank_new\n",
              "5       credit_num_nonmtgcredit_60dpd\n",
              "6              credit_prcnt_mtgcredit\n",
              "7     credit_bal_bankcard_severederog\n",
              "8      credit_bal_consumerfinance_new\n",
              "9                  credit_hh_autobank\n",
              "10      credit_bal_nonmtgcredit_60dpd\n",
              "11      credit_num_1stmtg_collections\n",
              "Name: VariableName, dtype: object"
            ]
          },
          "execution_count": 173,
          "metadata": {},
          "output_type": "execute_result"
        }
      ],
      "source": [
        "full_sorted_null_df[\"VariableName\"][0:12] #drop 12 columns"
      ]
    },
    {
      "cell_type": "code",
      "execution_count": null,
      "metadata": {
        "colab": {
          "base_uri": "https://localhost:8080/"
        },
        "id": "sxrRAvubLdTJ",
        "outputId": "dbbac931-e364-427f-c5ac-d1df787d0b0f"
      },
      "outputs": [
        {
          "name": "stdout",
          "output_type": "stream",
          "text": [
            "<class 'pandas.core.frame.DataFrame'>\n",
            "RangeIndex: 48300 entries, 0 to 48299\n",
            "Columns: 658 entries, id to hi_flag\n",
            "dtypes: float64(613), int64(38), object(7)\n",
            "memory usage: 242.5+ MB\n"
          ]
        }
      ],
      "source": [
        "training_dist2 = training_dist.drop(columns=full_sorted_null_df[\"VariableName\"][0:12])\n",
        "training_dist2.info() # 881 - 211 - 12 = 670 - 12 = 658 variables"
      ]
    },
    {
      "cell_type": "code",
      "execution_count": null,
      "metadata": {
        "colab": {
          "base_uri": "https://localhost:8080/"
        },
        "id": "ZunmKUuglGEF",
        "outputId": "ee0075ea-72ec-478d-cd21-e0c3a4b0f698"
      },
      "outputs": [
        {
          "name": "stdout",
          "output_type": "stream",
          "text": [
            "<class 'pandas.core.frame.DataFrame'>\n",
            "RangeIndex: 12220 entries, 0 to 12219\n",
            "Columns: 657 entries, id to atlas_snapspth16\n",
            "dtypes: float64(611), int64(39), object(7)\n",
            "memory usage: 61.3+ MB\n"
          ]
        }
      ],
      "source": [
        "holdout_dist2 = holdout_dist.drop(columns=full_sorted_null_df[\"VariableName\"][0:12])\n",
        "holdout_dist2.info() # 881 - 211 - 12 = 669 - 12 = 657 variables"
      ]
    },
    {
      "cell_type": "markdown",
      "metadata": {
        "id": "WShZRrTkNVuX"
      },
      "source": [
        "### Note: Misleading feature type"
      ]
    },
    {
      "cell_type": "code",
      "execution_count": null,
      "metadata": {
        "colab": {
          "base_uri": "https://localhost:8080/"
        },
        "id": "4uBwsNMx1bE6",
        "outputId": "0b0cbc36-d394-41c6-a6c4-0ce8aa09258d"
      },
      "outputs": [
        {
          "data": {
            "text/plain": [
              "array(['1', '6', '2', '3', '5', '4', '0', '*'], dtype=object)"
            ]
          },
          "execution_count": 176,
          "metadata": {},
          "output_type": "execute_result"
        }
      ],
      "source": [
        "# race is a column consisting 1-6, but there are numerical and string values\n",
        "training_dist2[\"cms_race_cd\"] = training_dist2[\"cms_race_cd\"].astype(str).values\n",
        "training_dist2[\"cms_race_cd\"].unique()"
      ]
    },
    {
      "cell_type": "markdown",
      "metadata": {
        "id": "TTEBrCuFL_pi"
      },
      "source": [
        "### Fill NA values in the other 248 columns"
      ]
    },
    {
      "cell_type": "code",
      "execution_count": null,
      "metadata": {
        "id": "vsFonGHflD8W"
      },
      "outputs": [],
      "source": [
        "for col in training_dist2.columns:\n",
        "  # no binary variables have missing value\n",
        "  if col in training_dist2.loc[:,(training_dist2.dtypes == \"object\").values].columns:\n",
        "    training_dist2[col].fillna(training_dist2[col].mode().iloc[0], inplace = True) # deal with categorical\n",
        "  else:\n",
        "    training_dist2[col].fillna(training_dist2[col].median(), inplace = True) # deal with numerical"
      ]
    },
    {
      "cell_type": "code",
      "execution_count": null,
      "metadata": {
        "colab": {
          "base_uri": "https://localhost:8080/"
        },
        "id": "PG88mEdLvOm9",
        "outputId": "2617ed92-6d35-4698-b479-98db109129f6"
      },
      "outputs": [
        {
          "data": {
            "text/plain": [
              "Index(['cons_mobplus', 'cms_ra_factor_type_cd', 'cons_homstat', 'sex_cd',\n",
              "       'lang_spoken_cd', 'rucc_category', 'cms_race_cd'],\n",
              "      dtype='object')"
            ]
          },
          "execution_count": 178,
          "metadata": {},
          "output_type": "execute_result"
        }
      ],
      "source": [
        "training_dist2.loc[:,(training_dist2.dtypes == \"object\").values].columns # categorical variables"
      ]
    },
    {
      "cell_type": "code",
      "execution_count": null,
      "metadata": {
        "colab": {
          "base_uri": "https://localhost:8080/"
        },
        "id": "Q7hxaqhbwADN",
        "outputId": "bb08c588-91cf-45ef-e7b3-49b26b5a63c1"
      },
      "outputs": [
        {
          "name": "stdout",
          "output_type": "stream",
          "text": [
            "['M' 'S' nan 'U' 'P']\n",
            "['M' 'S' 'U' 'P']\n",
            "['CN' 'CF' 'CP' 'E' nan 'D' '*' 'C2' 'SE']\n",
            "['CN' 'CF' 'CP' 'E' 'D' '*' 'C2' 'SE']\n",
            "['R' 'Y' 'U' nan 'P' 'T']\n",
            "['R' 'Y' 'U' 'P' 'T']\n",
            "['M' 'F']\n",
            "['M' 'F']\n",
            "['ENG' nan 'SPA' '*']\n",
            "['ENG' 'SPA' '*']\n",
            "['3-Metro' '1-Metro' '2-Metro' '5-Nonmetro' '4-Nonmetro' '6-Nonmetro'\n",
            " '7-Nonmetro' '8-Nonmetro' '9-Nonmetro']\n",
            "['3-Metro' '1-Metro' '2-Metro' '5-Nonmetro' '4-Nonmetro' '6-Nonmetro'\n",
            " '7-Nonmetro' '8-Nonmetro' '9-Nonmetro']\n",
            "[1 6 2 3 5 4 0 '1' '2' '3' '5' '4' '0' '6' '*']\n",
            "['1' '6' '2' '3' '5' '4' '0' '*']\n"
          ]
        }
      ],
      "source": [
        "# test if actually fill the missing value\n",
        "print(training_dist[\"cons_mobplus\"].unique())\n",
        "print(training_dist2[\"cons_mobplus\"].unique()) # cons_mobplus has 4 values now\n",
        "print(training_dist[\"cms_ra_factor_type_cd\"].unique())\n",
        "print(training_dist2[\"cms_ra_factor_type_cd\"].unique()) # cms_ra_factor_type_cd has 8 values\n",
        "print(training_dist[\"cons_homstat\"].unique()) \n",
        "print(training_dist2[\"cons_homstat\"].unique()) # cons_homstat has 5 values\n",
        "print(training_dist[\"sex_cd\"].unique())\n",
        "print(training_dist2[\"sex_cd\"].unique()) # sex_cd has 2 values\n",
        "print(training_dist[\"lang_spoken_cd\"].unique())\n",
        "print(training_dist2[\"lang_spoken_cd\"].unique()) # lang_spoken_cd has 3 values\n",
        "print(training_dist[\"rucc_category\"].unique())\n",
        "print(training_dist2[\"rucc_category\"].unique()) # rucc_category has 9 values\n",
        "print(training_dist[\"cms_race_cd\"].unique())\n",
        "print(training_dist2[\"cms_race_cd\"].unique()) # cms_race_cd has 8 values"
      ]
    },
    {
      "cell_type": "markdown",
      "metadata": {
        "id": "tNeBsF1ORsi6"
      },
      "source": [
        "## New dummies for categorical values"
      ]
    },
    {
      "cell_type": "code",
      "execution_count": null,
      "metadata": {
        "id": "b6BdfUZS5zwm"
      },
      "outputs": [],
      "source": [
        "# Turn categorical variables to dummy variables                                       \n",
        "cleaned_training = pd.get_dummies(training_dist2,drop_first = True)"
      ]
    },
    {
      "cell_type": "code",
      "execution_count": null,
      "metadata": {
        "colab": {
          "base_uri": "https://localhost:8080/"
        },
        "id": "fEfZ_Tro4RIq",
        "outputId": "05e8cb93-b732-477e-b351-f03e87d66f1d"
      },
      "outputs": [
        {
          "data": {
            "text/plain": [
              "658"
            ]
          },
          "execution_count": 181,
          "metadata": {},
          "output_type": "execute_result"
        }
      ],
      "source": [
        "len(training_dist2.columns)"
      ]
    },
    {
      "cell_type": "code",
      "execution_count": null,
      "metadata": {
        "colab": {
          "base_uri": "https://localhost:8080/"
        },
        "id": "fnaR4CeH5O8-",
        "outputId": "f6de2d19-1c47-4126-db27-6e3fdbc8155b"
      },
      "outputs": [
        {
          "data": {
            "text/plain": [
              "683"
            ]
          },
          "execution_count": 182,
          "metadata": {},
          "output_type": "execute_result"
        }
      ],
      "source": [
        "len(cleaned_training.columns)\n",
        "# there are 658 variables, and now there are\n",
        "# 658 + 4 + 8 + 5 + 2 + 3 + 9 + 8 - 7 - 7 = 683 variables\n",
        "# the first 7: n-1 new dummies for each n-value feature\n",
        "# the second 7: we delete the original categorical feature"
      ]
    },
    {
      "cell_type": "code",
      "execution_count": null,
      "metadata": {
        "colab": {
          "base_uri": "https://localhost:8080/",
          "height": 317
        },
        "id": "YpzuJn7m5MPB",
        "outputId": "fcdec562-64c3-4c1c-b971-9579161c6b69"
      },
      "outputs": [
        {
          "data": {
            "text/html": [
              "\n",
              "  <div id=\"df-f814135f-d316-4e11-9217-83cf0c5ee067\">\n",
              "    <div class=\"colab-df-container\">\n",
              "      <div>\n",
              "<style scoped>\n",
              "    .dataframe tbody tr th:only-of-type {\n",
              "        vertical-align: middle;\n",
              "    }\n",
              "\n",
              "    .dataframe tbody tr th {\n",
              "        vertical-align: top;\n",
              "    }\n",
              "\n",
              "    .dataframe thead th {\n",
              "        text-align: right;\n",
              "    }\n",
              "</style>\n",
              "<table border=\"1\" class=\"dataframe\">\n",
              "  <thead>\n",
              "    <tr style=\"text-align: right;\">\n",
              "      <th></th>\n",
              "      <th>id</th>\n",
              "      <th>rx_hum_19_pmpm_cost</th>\n",
              "      <th>cmsd2_can_mal_male_genital_pmpm_ct</th>\n",
              "      <th>cmsd2_inj_surgical_pmpm_ct</th>\n",
              "      <th>cci_chf_pmpm_ct</th>\n",
              "      <th>rx_phar_cat_safeway_pmpm_ct</th>\n",
              "      <th>cmsd2_ext_car_pmpm_ct</th>\n",
              "      <th>cmsd2_dig_liver_pmpm_ct</th>\n",
              "      <th>cmsd2_mus_arthropath_pmpm_ct</th>\n",
              "      <th>rx_hum_28_pmpm_ct</th>\n",
              "      <th>...</th>\n",
              "      <th>rucc_category_7-Nonmetro</th>\n",
              "      <th>rucc_category_8-Nonmetro</th>\n",
              "      <th>rucc_category_9-Nonmetro</th>\n",
              "      <th>cms_race_cd_0</th>\n",
              "      <th>cms_race_cd_1</th>\n",
              "      <th>cms_race_cd_2</th>\n",
              "      <th>cms_race_cd_3</th>\n",
              "      <th>cms_race_cd_4</th>\n",
              "      <th>cms_race_cd_5</th>\n",
              "      <th>cms_race_cd_6</th>\n",
              "    </tr>\n",
              "  </thead>\n",
              "  <tbody>\n",
              "    <tr>\n",
              "      <th>0</th>\n",
              "      <td>100039218.0</td>\n",
              "      <td>0.0</td>\n",
              "      <td>0.0</td>\n",
              "      <td>0.0</td>\n",
              "      <td>0.0</td>\n",
              "      <td>0.0</td>\n",
              "      <td>0.0</td>\n",
              "      <td>0.0</td>\n",
              "      <td>0.0</td>\n",
              "      <td>0.0</td>\n",
              "      <td>...</td>\n",
              "      <td>0</td>\n",
              "      <td>0</td>\n",
              "      <td>0</td>\n",
              "      <td>0</td>\n",
              "      <td>1</td>\n",
              "      <td>0</td>\n",
              "      <td>0</td>\n",
              "      <td>0</td>\n",
              "      <td>0</td>\n",
              "      <td>0</td>\n",
              "    </tr>\n",
              "    <tr>\n",
              "      <th>1</th>\n",
              "      <td>100042427.0</td>\n",
              "      <td>0.0</td>\n",
              "      <td>0.0</td>\n",
              "      <td>0.0</td>\n",
              "      <td>0.0</td>\n",
              "      <td>0.0</td>\n",
              "      <td>0.0</td>\n",
              "      <td>0.0</td>\n",
              "      <td>0.0</td>\n",
              "      <td>0.0</td>\n",
              "      <td>...</td>\n",
              "      <td>0</td>\n",
              "      <td>0</td>\n",
              "      <td>0</td>\n",
              "      <td>0</td>\n",
              "      <td>0</td>\n",
              "      <td>0</td>\n",
              "      <td>0</td>\n",
              "      <td>0</td>\n",
              "      <td>0</td>\n",
              "      <td>1</td>\n",
              "    </tr>\n",
              "    <tr>\n",
              "      <th>2</th>\n",
              "      <td>100055103.0</td>\n",
              "      <td>0.0</td>\n",
              "      <td>0.0</td>\n",
              "      <td>0.0</td>\n",
              "      <td>0.0</td>\n",
              "      <td>0.0</td>\n",
              "      <td>0.0</td>\n",
              "      <td>0.0</td>\n",
              "      <td>0.0</td>\n",
              "      <td>0.0</td>\n",
              "      <td>...</td>\n",
              "      <td>0</td>\n",
              "      <td>0</td>\n",
              "      <td>0</td>\n",
              "      <td>0</td>\n",
              "      <td>1</td>\n",
              "      <td>0</td>\n",
              "      <td>0</td>\n",
              "      <td>0</td>\n",
              "      <td>0</td>\n",
              "      <td>0</td>\n",
              "    </tr>\n",
              "    <tr>\n",
              "      <th>3</th>\n",
              "      <td>100074556.0</td>\n",
              "      <td>0.0</td>\n",
              "      <td>0.0</td>\n",
              "      <td>0.0</td>\n",
              "      <td>0.0</td>\n",
              "      <td>0.0</td>\n",
              "      <td>0.0</td>\n",
              "      <td>0.0</td>\n",
              "      <td>0.0</td>\n",
              "      <td>0.0</td>\n",
              "      <td>...</td>\n",
              "      <td>0</td>\n",
              "      <td>0</td>\n",
              "      <td>0</td>\n",
              "      <td>0</td>\n",
              "      <td>0</td>\n",
              "      <td>1</td>\n",
              "      <td>0</td>\n",
              "      <td>0</td>\n",
              "      <td>0</td>\n",
              "      <td>0</td>\n",
              "    </tr>\n",
              "    <tr>\n",
              "      <th>4</th>\n",
              "      <td>100079932.0</td>\n",
              "      <td>0.0</td>\n",
              "      <td>0.0</td>\n",
              "      <td>0.0</td>\n",
              "      <td>0.0</td>\n",
              "      <td>0.0</td>\n",
              "      <td>0.0</td>\n",
              "      <td>0.0</td>\n",
              "      <td>0.0</td>\n",
              "      <td>0.0</td>\n",
              "      <td>...</td>\n",
              "      <td>0</td>\n",
              "      <td>0</td>\n",
              "      <td>0</td>\n",
              "      <td>0</td>\n",
              "      <td>1</td>\n",
              "      <td>0</td>\n",
              "      <td>0</td>\n",
              "      <td>0</td>\n",
              "      <td>0</td>\n",
              "      <td>0</td>\n",
              "    </tr>\n",
              "  </tbody>\n",
              "</table>\n",
              "<p>5 rows × 683 columns</p>\n",
              "</div>\n",
              "      <button class=\"colab-df-convert\" onclick=\"convertToInteractive('df-f814135f-d316-4e11-9217-83cf0c5ee067')\"\n",
              "              title=\"Convert this dataframe to an interactive table.\"\n",
              "              style=\"display:none;\">\n",
              "        \n",
              "  <svg xmlns=\"http://www.w3.org/2000/svg\" height=\"24px\"viewBox=\"0 0 24 24\"\n",
              "       width=\"24px\">\n",
              "    <path d=\"M0 0h24v24H0V0z\" fill=\"none\"/>\n",
              "    <path d=\"M18.56 5.44l.94 2.06.94-2.06 2.06-.94-2.06-.94-.94-2.06-.94 2.06-2.06.94zm-11 1L8.5 8.5l.94-2.06 2.06-.94-2.06-.94L8.5 2.5l-.94 2.06-2.06.94zm10 10l.94 2.06.94-2.06 2.06-.94-2.06-.94-.94-2.06-.94 2.06-2.06.94z\"/><path d=\"M17.41 7.96l-1.37-1.37c-.4-.4-.92-.59-1.43-.59-.52 0-1.04.2-1.43.59L10.3 9.45l-7.72 7.72c-.78.78-.78 2.05 0 2.83L4 21.41c.39.39.9.59 1.41.59.51 0 1.02-.2 1.41-.59l7.78-7.78 2.81-2.81c.8-.78.8-2.07 0-2.86zM5.41 20L4 18.59l7.72-7.72 1.47 1.35L5.41 20z\"/>\n",
              "  </svg>\n",
              "      </button>\n",
              "      \n",
              "  <style>\n",
              "    .colab-df-container {\n",
              "      display:flex;\n",
              "      flex-wrap:wrap;\n",
              "      gap: 12px;\n",
              "    }\n",
              "\n",
              "    .colab-df-convert {\n",
              "      background-color: #E8F0FE;\n",
              "      border: none;\n",
              "      border-radius: 50%;\n",
              "      cursor: pointer;\n",
              "      display: none;\n",
              "      fill: #1967D2;\n",
              "      height: 32px;\n",
              "      padding: 0 0 0 0;\n",
              "      width: 32px;\n",
              "    }\n",
              "\n",
              "    .colab-df-convert:hover {\n",
              "      background-color: #E2EBFA;\n",
              "      box-shadow: 0px 1px 2px rgba(60, 64, 67, 0.3), 0px 1px 3px 1px rgba(60, 64, 67, 0.15);\n",
              "      fill: #174EA6;\n",
              "    }\n",
              "\n",
              "    [theme=dark] .colab-df-convert {\n",
              "      background-color: #3B4455;\n",
              "      fill: #D2E3FC;\n",
              "    }\n",
              "\n",
              "    [theme=dark] .colab-df-convert:hover {\n",
              "      background-color: #434B5C;\n",
              "      box-shadow: 0px 1px 3px 1px rgba(0, 0, 0, 0.15);\n",
              "      filter: drop-shadow(0px 1px 2px rgba(0, 0, 0, 0.3));\n",
              "      fill: #FFFFFF;\n",
              "    }\n",
              "  </style>\n",
              "\n",
              "      <script>\n",
              "        const buttonEl =\n",
              "          document.querySelector('#df-f814135f-d316-4e11-9217-83cf0c5ee067 button.colab-df-convert');\n",
              "        buttonEl.style.display =\n",
              "          google.colab.kernel.accessAllowed ? 'block' : 'none';\n",
              "\n",
              "        async function convertToInteractive(key) {\n",
              "          const element = document.querySelector('#df-f814135f-d316-4e11-9217-83cf0c5ee067');\n",
              "          const dataTable =\n",
              "            await google.colab.kernel.invokeFunction('convertToInteractive',\n",
              "                                                     [key], {});\n",
              "          if (!dataTable) return;\n",
              "\n",
              "          const docLinkHtml = 'Like what you see? Visit the ' +\n",
              "            '<a target=\"_blank\" href=https://colab.research.google.com/notebooks/data_table.ipynb>data table notebook</a>'\n",
              "            + ' to learn more about interactive tables.';\n",
              "          element.innerHTML = '';\n",
              "          dataTable['output_type'] = 'display_data';\n",
              "          await google.colab.output.renderOutput(dataTable, element);\n",
              "          const docLink = document.createElement('div');\n",
              "          docLink.innerHTML = docLinkHtml;\n",
              "          element.appendChild(docLink);\n",
              "        }\n",
              "      </script>\n",
              "    </div>\n",
              "  </div>\n",
              "  "
            ],
            "text/plain": [
              "            id  rx_hum_19_pmpm_cost  cmsd2_can_mal_male_genital_pmpm_ct  \\\n",
              "0  100039218.0                  0.0                                 0.0   \n",
              "1  100042427.0                  0.0                                 0.0   \n",
              "2  100055103.0                  0.0                                 0.0   \n",
              "3  100074556.0                  0.0                                 0.0   \n",
              "4  100079932.0                  0.0                                 0.0   \n",
              "\n",
              "   cmsd2_inj_surgical_pmpm_ct  cci_chf_pmpm_ct  rx_phar_cat_safeway_pmpm_ct  \\\n",
              "0                         0.0              0.0                          0.0   \n",
              "1                         0.0              0.0                          0.0   \n",
              "2                         0.0              0.0                          0.0   \n",
              "3                         0.0              0.0                          0.0   \n",
              "4                         0.0              0.0                          0.0   \n",
              "\n",
              "   cmsd2_ext_car_pmpm_ct  cmsd2_dig_liver_pmpm_ct  \\\n",
              "0                    0.0                      0.0   \n",
              "1                    0.0                      0.0   \n",
              "2                    0.0                      0.0   \n",
              "3                    0.0                      0.0   \n",
              "4                    0.0                      0.0   \n",
              "\n",
              "   cmsd2_mus_arthropath_pmpm_ct  rx_hum_28_pmpm_ct  ...  \\\n",
              "0                           0.0                0.0  ...   \n",
              "1                           0.0                0.0  ...   \n",
              "2                           0.0                0.0  ...   \n",
              "3                           0.0                0.0  ...   \n",
              "4                           0.0                0.0  ...   \n",
              "\n",
              "   rucc_category_7-Nonmetro  rucc_category_8-Nonmetro  \\\n",
              "0                         0                         0   \n",
              "1                         0                         0   \n",
              "2                         0                         0   \n",
              "3                         0                         0   \n",
              "4                         0                         0   \n",
              "\n",
              "   rucc_category_9-Nonmetro  cms_race_cd_0  cms_race_cd_1  cms_race_cd_2  \\\n",
              "0                         0              0              1              0   \n",
              "1                         0              0              0              0   \n",
              "2                         0              0              1              0   \n",
              "3                         0              0              0              1   \n",
              "4                         0              0              1              0   \n",
              "\n",
              "   cms_race_cd_3  cms_race_cd_4  cms_race_cd_5  cms_race_cd_6  \n",
              "0              0              0              0              0  \n",
              "1              0              0              0              1  \n",
              "2              0              0              0              0  \n",
              "3              0              0              0              0  \n",
              "4              0              0              0              0  \n",
              "\n",
              "[5 rows x 683 columns]"
            ]
          },
          "execution_count": 183,
          "metadata": {},
          "output_type": "execute_result"
        }
      ],
      "source": [
        "cleaned_training.head()"
      ]
    },
    {
      "cell_type": "markdown",
      "metadata": {
        "id": "gq1oNZY84QxK"
      },
      "source": [
        "# EDA\n",
        "\n"
      ]
    },
    {
      "cell_type": "markdown",
      "metadata": {
        "id": "Axq-hS8F3RH2"
      },
      "source": [
        "## Distribution Analysis"
      ]
    },
    {
      "cell_type": "code",
      "execution_count": null,
      "metadata": {
        "colab": {
          "base_uri": "https://localhost:8080/",
          "height": 1000
        },
        "id": "rogGJ9PeQ7Y4",
        "outputId": "a6b9395c-8569-4ae3-81a5-9074ddaa2c12"
      },
      "outputs": [
        {
          "data": {
            "text/plain": [
              "(array([2.800e+01, 3.000e+00, 1.600e+01, 2.000e+01, 3.100e+01, 4.200e+01,\n",
              "        8.100e+01, 9.400e+01, 1.230e+02, 1.460e+02, 4.140e+02, 3.400e+02,\n",
              "        7.900e+02, 6.400e+02, 2.443e+03, 1.762e+03, 6.243e+03, 4.287e+03,\n",
              "        8.147e+03, 4.883e+03, 5.708e+03, 3.026e+03, 3.727e+03, 1.886e+03,\n",
              "        1.907e+03, 6.490e+02, 4.740e+02, 1.680e+02, 1.870e+02, 3.500e+01]),\n",
              " array([ 25. ,  27.5,  30. ,  32.5,  35. ,  37.5,  40. ,  42.5,  45. ,\n",
              "         47.5,  50. ,  52.5,  55. ,  57.5,  60. ,  62.5,  65. ,  67.5,\n",
              "         70. ,  72.5,  75. ,  77.5,  80. ,  82.5,  85. ,  87.5,  90. ,\n",
              "         92.5,  95. ,  97.5, 100. ]),\n",
              " <a list of 30 Patch objects>)"
            ]
          },
          "execution_count": 185,
          "metadata": {},
          "output_type": "execute_result"
        },
        {
          "data": {
            "image/png": "[encoded data removed]",
            "text/plain": [
              "<Figure size 864x1584 with 1 Axes>"
            ]
          },
          "metadata": {},
          "output_type": "display_data"
        }
      ],
      "source": [
        "plt.hist(cleaned_training[\"est_age\"], density=False, bins=30)"
      ]
    },
    {
      "cell_type": "code",
      "execution_count": null,
      "metadata": {
        "colab": {
          "base_uri": "https://localhost:8080/"
        },
        "id": "mf9JDcQ4TNXa",
        "outputId": "0dc29ab3-1090-41c8-a2e9-db9711bff199"
      },
      "outputs": [
        {
          "data": {
            "text/plain": [
              "(0        74\n",
              " 1        81\n",
              " 2        75\n",
              " 3        67\n",
              " 4        50\n",
              "          ..\n",
              " 48295    72\n",
              " 48296    66\n",
              " 48297    53\n",
              " 48298    84\n",
              " 48299    71\n",
              " Name: est_age, Length: 46182, dtype: int64, 15       60\n",
              " 21       63\n",
              " 92       67\n",
              " 103      72\n",
              " 131      71\n",
              "          ..\n",
              " 48184    65\n",
              " 48185    71\n",
              " 48260    73\n",
              " 48281    59\n",
              " 48290    69\n",
              " Name: est_age, Length: 2118, dtype: int64)"
            ]
          },
          "execution_count": 186,
          "metadata": {},
          "output_type": "execute_result"
        }
      ],
      "source": [
        "(cleaned_training[cleaned_training[\"hi_flag\"] == 0][\"est_age\"], cleaned_training[cleaned_training[\"hi_flag\"] == 1][\"est_age\"])"
      ]
    }
  ],
  "metadata": {
    "colab": {
      "collapsed_sections": [],
      "provenance": [],
      "toc_visible": true
    },
    "kernelspec": {
      "display_name": "Python 3.10.7 64-bit",
      "language": "python",
      "name": "python3"
    },
    "language_info": {
      "codemirror_mode": {
        "name": "ipython",
        "version": 3
      },
      "file_extension": ".py",
      "mimetype": "text/x-python",
      "name": "python",
      "nbconvert_exporter": "python",
      "pygments_lexer": "ipython3",
      "version": "3.10.7"
    },
    "vscode": {
      "interpreter": {
        "hash": "aee8b7b246df8f9039afb4144a1f6fd8d2ca17a180786b69acc140d282b71a49"
      }
    }
  },
  "nbformat": 4,
  "nbformat_minor": 0
}
